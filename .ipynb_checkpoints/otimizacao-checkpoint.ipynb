{
 "cells": [
  {
   "cell_type": "code",
   "execution_count": 9,
   "metadata": {
    "executionInfo": {
     "elapsed": 1117,
     "status": "ok",
     "timestamp": 1603755470071,
     "user": {
      "displayName": "Fábio Lira Filho",
      "photoUrl": "https://lh3.googleusercontent.com/a-/AOh14GhLyVXYB1-WcbUEZXn5HTiNyY2efaWCM0vGt_k=s64",
      "userId": "07948178136263381816"
     },
     "user_tz": 180
    },
    "id": "8gB_3UP2Rl1E"
   },
   "outputs": [],
   "source": [
    "import pulp as p\n",
    "import pandas as pd\n",
    "import numpy as np\n",
    "from collections import OrderedDict"
   ]
  },
  {
   "cell_type": "markdown",
   "metadata": {
    "id": "rTWosWK6XH3S"
   },
   "source": [
    "Definindo a função a ser maximizada."
   ]
  },
  {
   "cell_type": "code",
   "execution_count": 10,
   "metadata": {
    "executionInfo": {
     "elapsed": 872,
     "status": "ok",
     "timestamp": 1603757878137,
     "user": {
      "displayName": "Fábio Lira Filho",
      "photoUrl": "https://lh3.googleusercontent.com/a-/AOh14GhLyVXYB1-WcbUEZXn5HTiNyY2efaWCM0vGt_k=s64",
      "userId": "07948178136263381816"
     },
     "user_tz": 180
    },
    "id": "yXAAcQmfWNLm"
   },
   "outputs": [],
   "source": [
    "prob =  p.LpProblem('SampleCase', p.LpMaximize) # LpMaximize é o maximizador"
   ]
  },
  {
   "cell_type": "markdown",
   "metadata": {
    "id": "jXgznVw_XC96"
   },
   "source": [
    "Criando variáveis da função"
   ]
  },
  {
   "cell_type": "code",
   "execution_count": 11,
   "metadata": {
    "executionInfo": {
     "elapsed": 870,
     "status": "ok",
     "timestamp": 1603757880144,
     "user": {
      "displayName": "Fábio Lira Filho",
      "photoUrl": "https://lh3.googleusercontent.com/a-/AOh14GhLyVXYB1-WcbUEZXn5HTiNyY2efaWCM0vGt_k=s64",
      "userId": "07948178136263381816"
     },
     "user_tz": 180
    },
    "id": "viHPYghzXP49"
   },
   "outputs": [],
   "source": [
    "xI = p.LpVariable(\"xI\", lowBound=0)\n",
    "xC = p.LpVariable(\"xC\", lowBound=0)\n",
    "xP = p.LpVariable(\"xP\", lowBound=0)"
   ]
  },
  {
   "cell_type": "markdown",
   "metadata": {
    "id": "0hJYBmRzXTU1"
   },
   "source": [
    "Criando a função propriamente dita, com as variáveis"
   ]
  },
  {
   "cell_type": "code",
   "execution_count": 12,
   "metadata": {
    "executionInfo": {
     "elapsed": 510,
     "status": "ok",
     "timestamp": 1603757881635,
     "user": {
      "displayName": "Fábio Lira Filho",
      "photoUrl": "https://lh3.googleusercontent.com/a-/AOh14GhLyVXYB1-WcbUEZXn5HTiNyY2efaWCM0vGt_k=s64",
      "userId": "07948178136263381816"
     },
     "user_tz": 180
    },
    "id": "-fWY4C_OXX28"
   },
   "outputs": [],
   "source": [
    "prob += 4 * xI + 2 * xC + 3 * xP"
   ]
  },
  {
   "cell_type": "markdown",
   "metadata": {
    "id": "pfKWa4ERXdAd"
   },
   "source": [
    "Definindo as restrições matemáticas da função que criamos"
   ]
  },
  {
   "cell_type": "code",
   "execution_count": 13,
   "metadata": {
    "executionInfo": {
     "elapsed": 814,
     "status": "ok",
     "timestamp": 1603757884222,
     "user": {
      "displayName": "Fábio Lira Filho",
      "photoUrl": "https://lh3.googleusercontent.com/a-/AOh14GhLyVXYB1-WcbUEZXn5HTiNyY2efaWCM0vGt_k=s64",
      "userId": "07948178136263381816"
     },
     "user_tz": 180
    },
    "id": "knPrJCXlXk7z"
   },
   "outputs": [],
   "source": [
    "prob += 7 * xI + 3 * xC + 6 * xP <= 150\n",
    "prob += 4 * xI + 4 * xC + 5 * xP <= 200\n",
    "prob += xI <= 5\n",
    "prob += xC <= 10\n",
    "prob += xP <= 5\n",
    "prob += xI >= 0.25 * (xI + xC + xP)"
   ]
  },
  {
   "cell_type": "code",
   "execution_count": 14,
   "metadata": {
    "colab": {
     "base_uri": "https://localhost:8080/",
     "height": 382
    },
    "executionInfo": {
     "elapsed": 765,
     "status": "ok",
     "timestamp": 1603757886790,
     "user": {
      "displayName": "Fábio Lira Filho",
      "photoUrl": "https://lh3.googleusercontent.com/a-/AOh14GhLyVXYB1-WcbUEZXn5HTiNyY2efaWCM0vGt_k=s64",
      "userId": "07948178136263381816"
     },
     "user_tz": 180
    },
    "id": "nmOSB8h0XoDX",
    "outputId": "e5988078-2e9b-478c-c9c3-ff6b83aafe89"
   },
   "outputs": [
    {
     "name": "stdout",
     "output_type": "stream",
     "text": [
      "SampleCase:\n",
      "MAXIMIZE\n",
      "2*xC + 4*xI + 3*xP + 0\n",
      "SUBJECT TO\n",
      "_C1: 3 xC + 7 xI + 6 xP <= 150\n",
      "\n",
      "_C2: 4 xC + 4 xI + 5 xP <= 200\n",
      "\n",
      "_C3: xI <= 5\n",
      "\n",
      "_C4: xC <= 10\n",
      "\n",
      "_C5: xP <= 5\n",
      "\n",
      "_C6: - 0.25 xC + 0.75 xI - 0.25 xP >= 0\n",
      "\n",
      "VARIABLES\n",
      "xC Continuous\n",
      "xI Continuous\n",
      "xP Continuous\n",
      "\n"
     ]
    }
   ],
   "source": [
    "print(prob)"
   ]
  },
  {
   "cell_type": "code",
   "execution_count": 15,
   "metadata": {
    "colab": {
     "base_uri": "https://localhost:8080/",
     "height": 52
    },
    "executionInfo": {
     "elapsed": 896,
     "status": "ok",
     "timestamp": 1603757930562,
     "user": {
      "displayName": "Fábio Lira Filho",
      "photoUrl": "https://lh3.googleusercontent.com/a-/AOh14GhLyVXYB1-WcbUEZXn5HTiNyY2efaWCM0vGt_k=s64",
      "userId": "07948178136263381816"
     },
     "user_tz": 180
    },
    "id": "Qf_zgcBSXqTY",
    "outputId": "fa462275-5232-4c36-d42e-0c45673d60a0"
   },
   "outputs": [
    {
     "name": "stdout",
     "output_type": "stream",
     "text": [
      "Optimal\n",
      "55.0\n"
     ]
    }
   ],
   "source": [
    "status = prob.solve()\n",
    "print(p.LpStatus[status])\n",
    "print(p.value(prob.objective))"
   ]
  },
  {
   "cell_type": "code",
   "execution_count": 16,
   "metadata": {
    "colab": {
     "base_uri": "https://localhost:8080/",
     "height": 69
    },
    "executionInfo": {
     "elapsed": 939,
     "status": "ok",
     "timestamp": 1603757932601,
     "user": {
      "displayName": "Fábio Lira Filho",
      "photoUrl": "https://lh3.googleusercontent.com/a-/AOh14GhLyVXYB1-WcbUEZXn5HTiNyY2efaWCM0vGt_k=s64",
      "userId": "07948178136263381816"
     },
     "user_tz": 180
    },
    "id": "6JpTmBNCX1G-",
    "outputId": "42095a82-57b8-4b1c-fa37-f83d402b7313"
   },
   "outputs": [
    {
     "name": "stdout",
     "output_type": "stream",
     "text": [
      "xC  10.0\n",
      "xI  5.0\n",
      "xP  5.0\n"
     ]
    }
   ],
   "source": [
    "# Solucoes otimas das variaveis\n",
    "for variable in prob.variables():\n",
    "  print((variable.name  + \"  \" + str(variable.varValue)))"
   ]
  },
  {
   "cell_type": "code",
   "execution_count": null,
   "metadata": {},
   "outputs": [],
   "source": []
  }
 ],
 "metadata": {
  "colab": {
   "authorship_tag": "ABX9TyN85kv4PHRKlQCEVeVjv4+v",
   "name": "otimizacao.ipynb",
   "provenance": []
  },
  "kernelspec": {
   "display_name": "Python 3",
   "language": "python",
   "name": "python3"
  },
  "language_info": {
   "codemirror_mode": {
    "name": "ipython",
    "version": 3
   },
   "file_extension": ".py",
   "mimetype": "text/x-python",
   "name": "python",
   "nbconvert_exporter": "python",
   "pygments_lexer": "ipython3",
   "version": "3.8.3"
  }
 },
 "nbformat": 4,
 "nbformat_minor": 1
}
